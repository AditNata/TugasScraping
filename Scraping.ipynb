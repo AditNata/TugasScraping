{
 "cells": [
  {
   "cell_type": "code",
   "execution_count": 1,
   "id": "9736e359",
   "metadata": {},
   "outputs": [],
   "source": [
    "import pandas as pd\n",
    "from bs4 import BeautifulSoup\n",
    "\n",
    "import chromedriver_autoinstaller\n",
    "from selenium import webdriver"
   ]
  },
  {
   "cell_type": "code",
   "execution_count": 2,
   "id": "b9f60bc9",
   "metadata": {},
   "outputs": [],
   "source": [
    "chromedriver_autoinstaller.install()\n",
    "\n",
    "browser = webdriver.Chrome()"
   ]
  },
  {
   "cell_type": "code",
   "execution_count": 3,
   "id": "b2ad8120",
   "metadata": {},
   "outputs": [],
   "source": [
    "browser.get(\"https://www.jawapos.com/search?q=haji+2022\")"
   ]
  },
  {
   "cell_type": "code",
   "execution_count": 4,
   "id": "678a944c",
   "metadata": {},
   "outputs": [],
   "source": [
    "soup = BeautifulSoup(browser.page_source,\"lxml\")"
   ]
  },
  {
   "cell_type": "code",
   "execution_count": 5,
   "id": "a107c1b5",
   "metadata": {},
   "outputs": [],
   "source": [
    "news = soup.find_all('div', {'class': 'latest_warp'})"
   ]
  },
  {
   "cell_type": "code",
   "execution_count": 6,
   "id": "2650c385",
   "metadata": {},
   "outputs": [
    {
     "name": "stdout",
     "output_type": "stream",
     "text": [
      "Judul                                                                      Tanggal   \n",
      "-------------------------------------------------------------------------------------------------------\n",
      "Menag Yaqut Cholil Sebut Realisasi Anggaran Haji 2022 Capai Rp 8,6 T       Rabu, 9 November 2022 | 10:19 WIB\n",
      "Haji 2022 Sukses, Menag Ingin Banyak Inovasi Untuk Tahun Depan             Jumat, 2 September 2022 | 13:21 WIB\n",
      "Operasional Haji 2022 Ditutup, Ini Kata Menag                              Jumat, 19 Agustus 2022 | 11:11 WIB\n",
      "89 Jamaah Meninggal Selama Haji 2022, Ini Daftar Lengkapnya                Senin, 15 Agustus 2022 | 10:56 WIB\n",
      "Haji 2022 Resmi Berakhir, Kloter Terakhir Jamaah Indonesia Dipulangkan     Sabtu, 13 Agustus 2022 | 16:29 WIB\n",
      "Wapres Ma’ruf Amin Menilai Baik Penyelenggaraan Haji 2022                  Jumat, 5 Agustus 2022 | 20:52 WIB\n",
      "Update Haji 2022: 16.442 Jamaah Haji Tiba di Tanah Air, 64 Orang Wafat     Jumat, 22 Juli 2022 | 09:47 WIB\n",
      "Begini Skenario Pelayanan untuk Jemaah Saat Puncak Ibadah Haji 2022        Selasa, 28 Juni 2022 | 14:18 WIB\n",
      "Operasional Haji 2022 Lancar, Tidak Ada Lagi Pasutri yang Terpisah         Kamis, 23 Juni 2022 | 11:59 WIB\n",
      "Puncak Haji 2022 Tepat Hari Jumat Berpotensi Jadi Haji Akbar               Rabu, 15 Juni 2022 | 17:22 WIB\n"
     ]
    }
   ],
   "source": [
    "news = soup.find_all('div', {'class': 'latest__item'})\n",
    "\n",
    "judul = []\n",
    "tanggal = []\n",
    "\n",
    "for new in news:\n",
    "    daftar_judul = new.find('h2', {'class':'latest__title'}).text.strip()\n",
    "    judul_asli = new.find('h2', {'class':'latest__title'}).find('a', {'class':'latest__link'})\n",
    "    tanggal_main = new.find('date', {'class':'latest__date'}).text.strip()\n",
    "    \n",
    "    if judul_asli:\n",
    "        judul.append(judul_asli.text.strip())\n",
    "        \n",
    "        tanggal.append(tanggal_main)\n",
    "        \n",
    "max_title_length = max(len(new.find('h2', {'class': 'latest__title'}).text) for new in news if new.find('h2', {'class': 'latest__title'}))\n",
    "\n",
    "print(f\"{'Judul':<{max_title_length}}   {'Tanggal':<10}\")\n",
    "print('-' * (max_title_length + 31))\n",
    "\n",
    "\n",
    "for judul, tanggal in zip(judul, tanggal):\n",
    "        print(f\"{judul:<{max_title_length}}   {tanggal:<10}\")"
   ]
  },
  {
   "cell_type": "code",
   "execution_count": 17,
   "id": "0a6e3568",
   "metadata": {},
   "outputs": [],
   "source": [
    "if len(judul) != len(tanggal):\n",
    "    min_length = min(len(judul), len(tanggal))\n",
    "    judul = judul[:min_length]\n",
    "    tanggal = tanggal[:min_length]\n",
    "\n",
    "data = {'Judul': judul, 'Tanggal': tanggal}\n",
    "pd.DataFrame(data).to_excel('berita.xlsx')\n"
   ]
  },
  {
   "cell_type": "code",
   "execution_count": 18,
   "id": "b9ba754e",
   "metadata": {},
   "outputs": [
    {
     "data": {
      "text/html": [
       "<div>\n",
       "<style scoped>\n",
       "    .dataframe tbody tr th:only-of-type {\n",
       "        vertical-align: middle;\n",
       "    }\n",
       "\n",
       "    .dataframe tbody tr th {\n",
       "        vertical-align: top;\n",
       "    }\n",
       "\n",
       "    .dataframe thead th {\n",
       "        text-align: right;\n",
       "    }\n",
       "</style>\n",
       "<table border=\"1\" class=\"dataframe\">\n",
       "  <thead>\n",
       "    <tr style=\"text-align: right;\">\n",
       "      <th></th>\n",
       "      <th>Judul</th>\n",
       "      <th>Tanggal</th>\n",
       "    </tr>\n",
       "  </thead>\n",
       "  <tbody>\n",
       "    <tr>\n",
       "      <th>0</th>\n",
       "      <td>Menag Yaqut Cholil Sebut Realisasi Anggaran Ha...</td>\n",
       "      <td>Rabu, 9 November 2022 | 10:19 WIB</td>\n",
       "    </tr>\n",
       "    <tr>\n",
       "      <th>1</th>\n",
       "      <td>Haji 2022 Sukses, Menag Ingin Banyak Inovasi U...</td>\n",
       "      <td>Jumat, 2 September 2022 | 13:21 WIB</td>\n",
       "    </tr>\n",
       "    <tr>\n",
       "      <th>2</th>\n",
       "      <td>Operasional Haji 2022 Ditutup, Ini Kata Menag</td>\n",
       "      <td>Jumat, 19 Agustus 2022 | 11:11 WIB</td>\n",
       "    </tr>\n",
       "    <tr>\n",
       "      <th>3</th>\n",
       "      <td>89 Jamaah Meninggal Selama Haji 2022, Ini Daft...</td>\n",
       "      <td>Senin, 15 Agustus 2022 | 10:56 WIB</td>\n",
       "    </tr>\n",
       "    <tr>\n",
       "      <th>4</th>\n",
       "      <td>Haji 2022 Resmi Berakhir, Kloter Terakhir Jama...</td>\n",
       "      <td>Sabtu, 13 Agustus 2022 | 16:29 WIB</td>\n",
       "    </tr>\n",
       "    <tr>\n",
       "      <th>5</th>\n",
       "      <td>Wapres Ma’ruf Amin Menilai Baik Penyelenggaraa...</td>\n",
       "      <td>Jumat, 5 Agustus 2022 | 20:52 WIB</td>\n",
       "    </tr>\n",
       "    <tr>\n",
       "      <th>6</th>\n",
       "      <td>Update Haji 2022: 16.442 Jamaah Haji Tiba di T...</td>\n",
       "      <td>Jumat, 22 Juli 2022 | 09:47 WIB</td>\n",
       "    </tr>\n",
       "    <tr>\n",
       "      <th>7</th>\n",
       "      <td>Begini Skenario Pelayanan untuk Jemaah Saat Pu...</td>\n",
       "      <td>Selasa, 28 Juni 2022 | 14:18 WIB</td>\n",
       "    </tr>\n",
       "    <tr>\n",
       "      <th>8</th>\n",
       "      <td>Operasional Haji 2022 Lancar, Tidak Ada Lagi P...</td>\n",
       "      <td>Kamis, 23 Juni 2022 | 11:59 WIB</td>\n",
       "    </tr>\n",
       "    <tr>\n",
       "      <th>9</th>\n",
       "      <td>Puncak Haji 2022 Tepat Hari Jumat Berpotensi J...</td>\n",
       "      <td>Rabu, 15 Juni 2022 | 17:22 WIB</td>\n",
       "    </tr>\n",
       "  </tbody>\n",
       "</table>\n",
       "</div>"
      ],
      "text/plain": [
       "                                               Judul  \\\n",
       "0  Menag Yaqut Cholil Sebut Realisasi Anggaran Ha...   \n",
       "1  Haji 2022 Sukses, Menag Ingin Banyak Inovasi U...   \n",
       "2      Operasional Haji 2022 Ditutup, Ini Kata Menag   \n",
       "3  89 Jamaah Meninggal Selama Haji 2022, Ini Daft...   \n",
       "4  Haji 2022 Resmi Berakhir, Kloter Terakhir Jama...   \n",
       "5  Wapres Ma’ruf Amin Menilai Baik Penyelenggaraa...   \n",
       "6  Update Haji 2022: 16.442 Jamaah Haji Tiba di T...   \n",
       "7  Begini Skenario Pelayanan untuk Jemaah Saat Pu...   \n",
       "8  Operasional Haji 2022 Lancar, Tidak Ada Lagi P...   \n",
       "9  Puncak Haji 2022 Tepat Hari Jumat Berpotensi J...   \n",
       "\n",
       "                               Tanggal  \n",
       "0    Rabu, 9 November 2022 | 10:19 WIB  \n",
       "1  Jumat, 2 September 2022 | 13:21 WIB  \n",
       "2   Jumat, 19 Agustus 2022 | 11:11 WIB  \n",
       "3   Senin, 15 Agustus 2022 | 10:56 WIB  \n",
       "4   Sabtu, 13 Agustus 2022 | 16:29 WIB  \n",
       "5    Jumat, 5 Agustus 2022 | 20:52 WIB  \n",
       "6      Jumat, 22 Juli 2022 | 09:47 WIB  \n",
       "7     Selasa, 28 Juni 2022 | 14:18 WIB  \n",
       "8      Kamis, 23 Juni 2022 | 11:59 WIB  \n",
       "9       Rabu, 15 Juni 2022 | 17:22 WIB  "
      ]
     },
     "execution_count": 18,
     "metadata": {},
     "output_type": "execute_result"
    }
   ],
   "source": [
    "pd.DataFrame(data)"
   ]
  },
  {
   "cell_type": "code",
   "execution_count": null,
   "id": "6cb7dff1",
   "metadata": {},
   "outputs": [],
   "source": []
  }
 ],
 "metadata": {
  "kernelspec": {
   "display_name": "Python 3 (ipykernel)",
   "language": "python",
   "name": "python3"
  },
  "language_info": {
   "codemirror_mode": {
    "name": "ipython",
    "version": 3
   },
   "file_extension": ".py",
   "mimetype": "text/x-python",
   "name": "python",
   "nbconvert_exporter": "python",
   "pygments_lexer": "ipython3",
   "version": "3.9.12"
  }
 },
 "nbformat": 4,
 "nbformat_minor": 5
}
